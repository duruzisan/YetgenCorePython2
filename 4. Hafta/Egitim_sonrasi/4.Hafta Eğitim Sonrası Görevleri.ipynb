{
 "cells": [
  {
   "cell_type": "markdown",
   "metadata": {},
   "source": [
    "# Problem 1\n",
    "`ogrenciler` adında bir sözlük oluşturunuz. Kullanıcıdan döngü yardımıyla 3 öğrenci için veri girmesini isteyerek öğrencilerin sırasıyla okul numarası, isim, soy isim, telefon numarası ve doğum tarihi bilgilerini alınız. Aldığınız öğrenci bilgilerini yine aynı döngü yardımıyla `ogrenciler` adındaki sözlükte saklayınız. Daha sonra öğrenci bilgilerinin bulunduğu sözlük yapısını ekrana bastırınız.\n",
    "\n"
   ]
  },
  {
   "cell_type": "code",
   "execution_count": 7,
   "metadata": {},
   "outputs": [
    {
     "name": "stdout",
     "output_type": "stream",
     "text": [
      "{'1234567': {'isim': 'Duru Ozdemir', 'telefon numarasi': '05558999999', ' dogum tarihi': '010101'}, '246820': {'isim': 'Eda Kocak', 'telefon numarasi': '05543245678', ' dogum tarihi': '020202'}, '357911': {'isim': 'Ilayda Dulger', 'telefon numarasi': '05538776655', ' dogum tarihi': '030303'}}\n"
     ]
    }
   ],
   "source": [
    "ogrenciler = {}\n",
    "for i in range(0,3):\n",
    "    numara = input(\"Ogrenci numaranizi giriniz:\")\n",
    "    isim = input(f\"{numara} numarali ogrencinin ismini soyismini giriniz\")\n",
    "    telefonNumarasi = input(f\"{numara} numarali ogrencinin telefon numarasi giriniz:\")\n",
    "    tarih = input(f\"{numara} numarali ogrencinin dogum tarihini giriniz:\")\n",
    "    \n",
    "\n",
    "    ogrenciler[numara] = {\"isim\":isim , \"telefon numarasi\":telefonNumarasi,\" dogum tarihi\":tarih}\n",
    "print(ogrenciler)"
   ]
  },
  {
   "cell_type": "markdown",
   "metadata": {},
   "source": [
    "# Problem 2\n",
    "\n",
    "### a - Biraz ısınarak başlayalım!\n",
    "\n",
    "```\n",
    "numbers = [5,10,10,15,15,15,20,20,20,20]\n",
    "```\n",
    "\n",
    "Yukarıda `numbers` adında 10 elemanlı bir liste verilmiştir. Bu listenin her elemanını kontrol eden ve tekrar eden elemanları bir kez olacak şekilde başka bir listeye kopyalayan bir program yazınız. Son olarak oluşturduğunuz listeyi ekrana bastırınız.\n",
    "\n",
    "\n",
    "\n",
    "\n",
    "```\n",
    ">Output\n",
    "[5, 10, 15, 20]\n",
    "```\n"
   ]
  },
  {
   "cell_type": "code",
   "execution_count": 13,
   "metadata": {},
   "outputs": [
    {
     "name": "stdout",
     "output_type": "stream",
     "text": [
      "[5, 10, 15, 20]\n"
     ]
    }
   ],
   "source": [
    "numbers = [5,10,10,15,15,15,20,20,20,20]\n",
    "newnumbers = []\n",
    "for i in numbers:\n",
    "    if i not in newnumbers:\n",
    "        newnumbers.append(i)\n",
    "\n",
    "print(newnumbers)\n",
    "    "
   ]
  },
  {
   "cell_type": "markdown",
   "metadata": {},
   "source": [
    "### 🌶️ b) Hadi işi biraz daha zorlaştıralım! \n",
    "\n",
    "\n",
    "Şimdiyse senden `numbers` isimli listedeki tekrar eden elemanları `repeatNumbers` adındaki listeye; tekrar etmeyen elemanları `uniqueNumbers`adındaki listeye kopyalayan yazmanı ve listeleri ekrana bastırmanı bekliyoruz\n",
    "\n",
    "```\n",
    ">Output\n",
    "Tekrar Eden Elemanlar: [10, 10, 15, 15, 15, 20, 20, 20, 20]\n",
    "Tekrar Etmeyen Elemanlar: [5]\n",
    "```"
   ]
  },
  {
   "cell_type": "code",
   "execution_count": 19,
   "metadata": {},
   "outputs": [
    {
     "name": "stdout",
     "output_type": "stream",
     "text": [
      "uniqueNumbers [5]\n",
      "repeatNumbers [10, 15, 20]\n"
     ]
    }
   ],
   "source": [
    "numbers = [5,10,10,15,15,15,20,20,20,20]\n",
    "repeatNumbers = []\n",
    "uniqueNumbers = []\n",
    "for i in numbers:\n",
    "    if numbers.count(i) >1:\n",
    "        if i not in repeatNumbers:\n",
    "            repeatNumbers.append(i)\n",
    "    else:\n",
    "        uniqueNumbers.append(i)\n",
    " \n",
    "\n",
    "print(\"uniqueNumbers\" , uniqueNumbers)\n",
    "print(\"repeatNumbers\" , repeatNumbers)"
   ]
  },
  {
   "cell_type": "markdown",
   "metadata": {},
   "source": [
    "# Problem 3\n",
    "sn1 = {1,2,3,4,5}\n",
    "\n",
    "sn2 = {4,5,6,7,8}\n",
    "\n",
    " Verilen 2 adet küme için kesişimlerini, farklarını ve birleşimlerini bulunuz. "
   ]
  },
  {
   "cell_type": "code",
   "execution_count": 20,
   "metadata": {},
   "outputs": [
    {
     "name": "stdout",
     "output_type": "stream",
     "text": [
      "kesisimleri {4, 5}\n",
      "farklari {1, 2, 3}\n",
      "birlesimleri {1, 2, 3, 4, 5, 6, 7, 8}\n"
     ]
    }
   ],
   "source": [
    "sn1 = {1,2,3,4,5}\n",
    "sn2 = {4,5,6,7,8}\n",
    "print(\"kesisimleri\", sn1.intersection(sn2))\n",
    "print(\"farklari\", sn1.difference(sn2))\n",
    "print(\"birlesimleri\", sn1.union(sn2))\n"
   ]
  },
  {
   "cell_type": "markdown",
   "metadata": {},
   "source": [
    "# Problem 4\n",
    "\n",
    "Buradaki işlemlerimizin tamamı stringler içindir. Aşağıda verilecek olan metodlar için kendinizin örnek yaratması gerekmektedir. \n",
    "\n",
    "Örneğin `upper` için `string` değişkeni oluştururken` k = \"BAC\"` şeklinde oluşturmayınız. Bunun yerine k değişkenini `k = \"bac`\" şeklinde oluşturmanız `upper` metodundaki değişimi görebilmeniz için daha iyi olacaktır.\n",
    "\n",
    "Bütün metodlardaki değişimin gözle görülür şekilde değişimi beklenmektedir.\n",
    "\n",
    "\n",
    "1- capitalize(), lower(), upper(), swapcase(), title(), replace()\n",
    "\n",
    "2- endswith(), startswith(), find(), index(), count()\n",
    "\n",
    "3- split(), strip(), join(), islower(), isalpha(), isdigit()\n",
    "\n",
    "\n",
    "Yukarıdaki `string` metodlarındaki değişimleri görebildiğimiz bir program yazınız.\n"
   ]
  },
  {
   "cell_type": "code",
   "execution_count": 23,
   "metadata": {},
   "outputs": [
    {
     "name": "stdout",
     "output_type": "stream",
     "text": [
      "Yetgencorepython\n",
      "yetgencorepython\n",
      "YETGENCOREPYTHON\n",
      "yETgENcOREpython\n",
      "Yetgencorepython\n",
      "YetGoreCorePYTHON\n",
      "False\n",
      "True\n",
      "3\n",
      "0\n",
      "3\n",
      "['YetGenCorePYTHON']\n",
      "YetGenCorePYTHON\n",
      ",YetGenCorePYTHON,YetGenCorePYTHON,\n",
      "False\n",
      "True\n",
      "False\n"
     ]
    }
   ],
   "source": [
    "girdi = \"YetGenCorePYTHON\"\n",
    "print(girdi.capitalize())\n",
    "print(girdi.lower())\n",
    "print(girdi.upper())\n",
    "print(girdi.swapcase())\n",
    "print(girdi.title())\n",
    "print(girdi.replace(\"en\",\"ore\"))\n",
    "print(girdi.endswith(\"n\"))\n",
    "print(girdi.startswith(\"Y\"))\n",
    "print(girdi.find(\"Gen\"))\n",
    "print(girdi.index(\"Yet\"))\n",
    "print(girdi.count(\"e\"))\n",
    "print(girdi.split())\n",
    "print(girdi.strip())\n",
    "print(girdi.join(\",,,\"))\n",
    "print(girdi.islower())\n",
    "print(girdi.isalpha())\n",
    "print(girdi.isdigit())"
   ]
  }
 ],
 "metadata": {
  "kernelspec": {
   "display_name": "Python 3.10.5 64-bit",
   "language": "python",
   "name": "python3"
  },
  "language_info": {
   "codemirror_mode": {
    "name": "ipython",
    "version": 3
   },
   "file_extension": ".py",
   "mimetype": "text/x-python",
   "name": "python",
   "nbconvert_exporter": "python",
   "pygments_lexer": "ipython3",
   "version": "3.12.3"
  },
  "orig_nbformat": 4,
  "vscode": {
   "interpreter": {
    "hash": "5026d2d6e7aaaaba093def813beadff083d8733e4a511af01735cbabd156995d"
   }
  }
 },
 "nbformat": 4,
 "nbformat_minor": 2
}
