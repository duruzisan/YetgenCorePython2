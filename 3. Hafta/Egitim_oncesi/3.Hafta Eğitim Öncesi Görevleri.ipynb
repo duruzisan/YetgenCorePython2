{
  "cells": [
    {
      "cell_type": "markdown",
      "metadata": {
        "id": "tsD4YVAe_Te2"
      },
      "source": [
        "# Problem 1\n",
        "Bir sayının 7'ye bölünebilir olup olmadığını kontrol etmek \n",
        "için bir program yazın.\n",
        "\n",
        "İpucu: Mod operatörünü (%) kullanabilirsiniz."
      ]
    },
    {
      "cell_type": "code",
      "execution_count": 16,
      "metadata": {
        "id": "NGjvNwKx_Te7"
      },
      "outputs": [
        {
          "name": "stdout",
          "output_type": "stream",
          "text": [
            "35 7 ye tam bolunur.\n"
          ]
        }
      ],
      "source": [
        "sayi = int(input(\"bir sayi giriniz:\"))\n",
        "mod = sayi % 7\n",
        "if mod == 0:\n",
        "    print(f\"{sayi} 7 ye tam bolunur.\")\n",
        "else:\n",
        "    print(f\"{sayi} 7 ye tam bolunmez.\")"
      ]
    },
    {
      "cell_type": "markdown",
      "metadata": {
        "id": "Kg3qiBAI_Te8"
      },
      "source": [
        "# Problem 2\n",
        "Kullanıcıdan vize ve final notu isteyin. Girilen vize notunun %40’ı ve \n",
        "girilen finalnotunun ise %60’ı alınarak yıl sonu not ortalaması hesaplanacaktır. \n",
        "\n",
        "Bu not ortalaması eğer 85 ve üzeri ise AA, \n",
        "\n",
        "75 ve 85 arasında ise BA, \n",
        "\n",
        "70 ve 75 arasında ise BB, \n",
        "\n",
        "65 ve 70 arasında ise CB,\n",
        "\n",
        "60 ve 65 arasında ise CC,\n",
        "\n",
        "55 ve 60 arasında ise DC,\n",
        "\n",
        "50 ve 55 arasında ise DD olarak hesaplanacaktır. \n",
        "\n",
        "Bu öğrencinin yıl sonu toplam notu 50’nin altında ise FF ile dersten kalacaktır. \n",
        "\n",
        "Ayrıca öğrencinin final notu 50’nin altında ise direkt FF ile kalacaktır."
      ]
    },
    {
      "cell_type": "code",
      "execution_count": 20,
      "metadata": {
        "id": "MXTtCxI1_Te8"
      },
      "outputs": [
        {
          "name": "stdout",
          "output_type": "stream",
          "text": [
            "AA ile gectiniz\n"
          ]
        }
      ],
      "source": [
        "vize = int(input(\"vize notunuzu giriniz:\"))\n",
        "final = int(input(\"final notu giriniz:\"))\n",
        "not_ort = vize * (40/100) + final * (60/100) \n",
        "if final >= 50:\n",
        "    if not_ort >= 85:\n",
        "        print(\"AA ile gectiniz\")\n",
        "    elif 75 < not_ort < 85:\n",
        "        print(\"BA ile gectiniz\")\n",
        "    elif 70 < not_ort < 75:\n",
        "        print(\"BB ile gectiniz\")\n",
        "    elif 65 < not_ort < 70:\n",
        "        print(\"CB ile gectiniz\")\n",
        "    elif 60 < not_ort < 65:\n",
        "        print(\"CC ile gectiniz\")\n",
        "    elif 55 < not_ort < 60:\n",
        "        print(\"DC ile gectiniz\")\n",
        "    elif 55 < not_ort < 60:\n",
        "        print(\"DD ile gectiniz\")\n",
        "    elif not_ort < 50:\n",
        "        print(\"FF ile dersten kaldiniz.\")\n",
        "else:\n",
        "    print(\"Final notunuzdan dolayi dersten kaldiniz.\")\n",
        "\n",
        "\n",
        "\n"
      ]
    },
    {
      "cell_type": "markdown",
      "metadata": {
        "id": "tAoRYCTC_Te8"
      },
      "source": [
        "# Problem 3\n",
        "İki YetGenli Zirve'de karşılaşıyorlar. Birbirlerini tanımak için sorular soruyorlar. Birbirlerine yaşlarını soruyorlar. Akıllarına bir Python programı yazıp, yaşlarını ve isimlerini giriyorlar. Büyük olanın yaşını ekrana yazdıran programı yazıyorlar. Sende bu iki YetGenli'ye destek olmak ister misin?\n",
        "\n",
        "```\n",
        "Birinci YetGenlinin ismi: Ahmet\n",
        "Birinci YetGenlinin yaşı : 20\n",
        "İkinci YetGenlinin ismi: Mehmet\n",
        "İkinci YetGenlinin yaşı : 25\n",
        "Mehmet'in yaşı daha büyük ve yaşı 25'tir.\n",
        "```"
      ]
    },
    {
      "cell_type": "code",
      "execution_count": 11,
      "metadata": {
        "id": "bPjE8W0i_Te8"
      },
      "outputs": [
        {
          "name": "stdout",
          "output_type": "stream",
          "text": [
            "duru daha buyuktur ve yasi 25\n"
          ]
        }
      ],
      "source": [
        "birinci_isim = input(\"isminizi giriniz\")\n",
        "birinci_yas = int(input(\"yasinizi giriniz:\"))\n",
        "ikinci_isim = input(\"isminizi giriniz\")\n",
        "ikinci_yas = int(input(\"yasinizi giriniz\"))\n",
        "if birinci_yas > ikinci_yas:\n",
        "    print(f\"{birinci_isim} daha buyuktur ve yasi {birinci_yas} tir\")\n",
        "else:\n",
        "    print(f\"{ikinci_isim} daha buyuktur ve yasi {ikinci_yas} tir\")"
      ]
    },
    {
      "cell_type": "markdown",
      "metadata": {
        "id": "zBVv8Tyg_Te9"
      },
      "source": [
        "# Problem 4\n",
        "Pandemi döneminde AVM'lerde ateş ölçümü yapılıyor. AVM'ye giren kişinin ateş ölçümü 37.5 derecenin altında ise girişe izin veriliyor. 37.5 derecenin üstünde ise girişe izin verilmiyor. AVM'ye girişe izin verilip verilmediğini ekrana yazdıran bir program yazın.\n",
        "\n",
        "Program sonunda şöyle bir çıktı elde etmelisiniz:\n",
        "\n",
        "```\n",
        "Ateşiniz 37.5 derece. AVM'ye girebilirsin! Maske takmayı unutma!\n",
        "Ateşiniz 37.6 derece. AVM'ye giremezsin! Hemen evine dön!\n",
        "```"
      ]
    },
    {
      "cell_type": "code",
      "execution_count": 8,
      "metadata": {
        "id": "TSAXs8et_Te9"
      },
      "outputs": [
        {
          "name": "stdout",
          "output_type": "stream",
          "text": [
            "Atesiniz 36.0 derece. AVM ye girebilirsin! Maske takmayi unutma!\n"
          ]
        }
      ],
      "source": [
        "atesolcusu = float(input(\"kisinin atesini giriniz:\"))\n",
        "if atesolcusu < 37.5:\n",
        "    print(f\"Atesiniz {atesolcusu} derece. AVM ye girebilirsin! Maske takmayi unutma!\")\n",
        "elif atesolcusu > 37.5:\n",
        "    print(f\"Atesiniz {atesolcusu} derece. AVM ye giremezsin! Hemen evine don!\")\n"
      ]
    },
    {
      "cell_type": "markdown",
      "metadata": {
        "id": "6AEkZrDt_Te9"
      },
      "source": [
        "# Problem 5\n",
        "YetGen bir spor kulübüyle sponsorluk anlaşması yapıyor. Kulüp, sponsorluk anlaşmasına göre her YetGen liderinin beden kitle indeksini hesaplamak istiyor. Spor kulübü, beden kitle indeksini hesaplamak için YetGen Jump Python liderlerinden Berkcan ve Ahmet'i arıyor. Berkcan ve Ahmet, kulübe yardımcı olmak için bir Python programı yazıyorlar. Sende bu iki YetGen liderine destek olmak ister misin?\n",
        "\n",
        "Kullanıcıdan alınan boy ve kilo değerlerine göre beden kitle indeksini hesaplayın ve şu kurallara göre ekrana şu yazıları yazdırın.\n",
        "\n",
        "\n",
        "Beden Kitle İndeksi, kişinin ağırlığının (kg olarak) boyunun karesine (m olarak) bölünmesiyle hesaplanır.\n",
        "\n",
        "\n",
        "```\n",
        " BKİ 18.5'un altındaysa -------> Zayıf\n",
        "\n",
        " BKİ 18.5 ile 25 arasındaysa ------> Normal\n",
        "\n",
        " BKİ 25 ile 30 arasındaysa --------> Fazla Kilolu\n",
        "\n",
        " BKİ 30'un üstündeyse -------------> Obez\n",
        "```\n",
        "\n"
      ]
    },
    {
      "cell_type": "code",
      "execution_count": 6,
      "metadata": {
        "id": "t-XPI_u0_Te-"
      },
      "outputs": [
        {
          "name": "stdout",
          "output_type": "stream",
          "text": [
            "zayif\n"
          ]
        }
      ],
      "source": [
        "kilo = int(input(\"kilonuzu giriniz:\"))\n",
        "boy = float(input(\"boyunuzu giriniz:\"))      \n",
        "bki = kilo / boy\n",
        "if bki < 18.5:\n",
        "    print(\"zayif\")\n",
        "elif  18.5 < bki < 25:\n",
        "    print(\"normal\") \n",
        "elif 25 < bki < 30:\n",
        "    print(\"fazla kilolu\")\n",
        "elif bki > 30:\n",
        "    print(\"obez\")\n"
      ]
    },
    {
      "cell_type": "markdown",
      "metadata": {
        "id": "oFsvQyaO_Te-"
      },
      "source": [
        "# Problem 6\n",
        "Kullanıcıdan isim, yaş ve eğitim bilgilerini isteyip ehliyet alabilme  durumunu kontrol ediniz. \n",
        "\n",
        "Ehliyet alma koşulu en az 18 yaşında ve eğitim durumu lise ya da üniversite olmalıdır. "
      ]
    },
    {
      "cell_type": "code",
      "execution_count": 3,
      "metadata": {
        "id": "Tu2mcgco_Te-"
      },
      "outputs": [
        {
          "name": "stdout",
          "output_type": "stream",
          "text": [
            "ehliyet alabilirsiniz\n"
          ]
        }
      ],
      "source": [
        "isim = input(\"isim giriniz\")\n",
        "yas = int(input(\"yasinizi giriniz\"))\n",
        "egitim = input(\"egitim bilgisi giriniz\")\n",
        "\n",
        "if (yas > 18)and (egitim == \"lise\" or \"universite\"):\n",
        "    print(\"ehliyet alabilirsiniz\")\n",
        "else:\n",
        "    print(\"ehliyet alamazsiniz\")    \n",
        " "
      ]
    },
    {
      "cell_type": "markdown",
      "metadata": {
        "id": "eUkxVSAE_Te_"
      },
      "source": [
        "# Problem 7\n",
        "Bir yılın artık yıl olup olmadığını kontrol etmek için bir program yazın. \n",
        "Artık yıl kuralı:\n",
        "\n",
        "a) Eğer yılın son iki basamağı (00) ile bitmiyor ve yalnızca 4'e tam bölünüyorsa artık yıldır. Ya da, \n",
        "\n",
        "b) Eğer yıl 400'e tam bölünüyorsa artık yıldır.\n",
        "\n",
        "**Örneğin**\n",
        "```\n",
        "2017 artık yıl değildir.\n",
        "1900 artık yıl değildir\n",
        "2012 artık yıldır.\n",
        "2000 artık yıldır.\n",
        "```"
      ]
    },
    {
      "cell_type": "code",
      "execution_count": 24,
      "metadata": {
        "id": "4uWh8qUL_Te_"
      },
      "outputs": [
        {
          "name": "stdout",
          "output_type": "stream",
          "text": [
            "2025 yili artik yildir\n"
          ]
        }
      ],
      "source": [
        "artikyil = int(input(\"bir yil giriniz\"))\n",
        "if artikyil // 400:\n",
        "    print(artikyil , \"yili artik yildir\")\n",
        "else:\n",
        "    print(artikyil, \"yili artik yil degildir.\")\n",
        "\n"
      ]
    }
  ],
  "metadata": {
    "colab": {
      "provenance": []
    },
    "kernelspec": {
      "display_name": "Python 3.10.5 64-bit",
      "language": "python",
      "name": "python3"
    },
    "language_info": {
      "codemirror_mode": {
        "name": "ipython",
        "version": 3
      },
      "file_extension": ".py",
      "mimetype": "text/x-python",
      "name": "python",
      "nbconvert_exporter": "python",
      "pygments_lexer": "ipython3",
      "version": "3.12.3"
    },
    "orig_nbformat": 4,
    "vscode": {
      "interpreter": {
        "hash": "5026d2d6e7aaaaba093def813beadff083d8733e4a511af01735cbabd156995d"
      }
    }
  },
  "nbformat": 4,
  "nbformat_minor": 0
}
