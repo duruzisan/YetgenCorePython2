{
 "cells": [
  {
   "attachments": {},
   "cell_type": "markdown",
   "metadata": {},
   "source": [
    "# Problem 1 "
   ]
  },
  {
   "cell_type": "code",
   "execution_count": null,
   "metadata": {},
   "outputs": [],
   "source": [
    "# 1 - numpy kütüphanesini import edin\n",
    "\n",
    "# 2 - 5 elemanlı bir numpy array oluşturun\n",
    "\n",
    "# 3 - Oluşturduğunuz arrayi küçükten büyüğe sıralayın.\n"
   ]
  },
  {
   "cell_type": "code",
   "execution_count": null,
   "metadata": {},
   "outputs": [],
   "source": [
    "import numpy as np\n",
    "a = np.array([107,33,57,5,93])\n",
    "print(a)\n",
    "a.sort()\n",
    "print(a)"
   ]
  },
  {
   "attachments": {},
   "cell_type": "markdown",
   "metadata": {},
   "source": [
    "# Problem 2"
   ]
  },
  {
   "cell_type": "code",
   "execution_count": null,
   "metadata": {},
   "outputs": [],
   "source": [
    "import numpy as np\n",
    "# 1- (10,15,30,45,60) değerlerine sahip numpy dizisi oluşturunuz.\n",
    "a = np.array([10,15,30,45,60])\n",
    "print(a)\n",
    "# 2- (5-15) arasındaki sayılarla numpy dizisi oluşturunuz.\n",
    "b = np.arange(5,15)\n",
    "print(b)\n",
    "# 3- (50-100) arasında 5'er 5'er artarak numpy dizisi oluşturunuz.\n",
    "c = np.arange(50,100,5)\n",
    "print(c)\n",
    "# 4- 10 elemanlı sıfırlardan oluşan bir dizi oluşturunuz.\n",
    "d = np.zeros(10)\n",
    "print(d)\n",
    "# 5- 10 elemanlı birlerden oluşan bir dizi oluşturunuz.\n",
    "e = np.ones(10)\n",
    "print(e)\n",
    "# 6- (0-100) arasında eşit aralıklı 5 sayı üretin.\n",
    "f = np.arange(0,100,20)\n",
    "print(f)\n",
    "# 7- (10-30) arasında rastgele 5 tane tamsayı üretin.\n",
    "g = np.random.randint(10,30,5)\n",
    "print(g)\n",
    "# 8- [-1 ile 1] arasında 10 adet sayı üretin.\n",
    "h = np.linspace(-1,1,10)\n",
    "print(h)\n",
    "\n",
    "# 9- (3x5) boyutlarında (10-50) arasında rastgele bir matris oluşturunuz.\n",
    "i = np.arange(25,40).reshape(3,5)\n",
    "print(i)\n",
    "# 10- Üretilen matrisin satır ve sütun sayıları toplamlarını hesaplayınız ?\n",
    "print(i.sum(axis=1))\n",
    "print(i.sum(axis=0))\n",
    "\n",
    "# 11- Üretilen matrisin en büyük, en küçük ve ortalaması nedir ?\n",
    "print(i.max())\n",
    "print(i.min())\n",
    "print(i.mean())\n",
    "\n",
    "# 12- Üretilen matrisin en büyük değerinin indeksi kaçtır ?\n",
    "\n",
    "# 13- (10-20) arasındaki sayıları içeren dizinin ilk 3 elemanını seçiniz.\n",
    "liste = np.arange(10,20)\n",
    "c = liste[:3]\n",
    "print(c)\n",
    "# 14- Üretilen dizinin elemanlarını tersten yazdırın.\n",
    "d = liste[::-1]\n",
    "print(d)\n",
    "# 15- Üretilen matrisin ilk satırını seçiniz.\n",
    "print(i[0])\n",
    "\n",
    "# 16- Üretilen matrisin 2.satır 3.sütundaki elemanı hangisidir ?\n",
    "print(i[2,3])\n",
    "\n",
    "# 17- Üretilen matrisin tüm satırlardaki ilk elemanı seçiniz.\n",
    "print(i[:,0])\n",
    "\n",
    "# 18- Üretilen matrisin her bir elemanının karesini alınız.\n",
    "print(np.square(i))\n",
    "\n",
    "# 19- Üretilen matris elemanlarının hangisi pozitif çift sayıdır ? Aralığı (-50,+50) arasında yapınız.\n"
   ]
  }
 ],
 "metadata": {
  "kernelspec": {
   "display_name": "Python 3",
   "language": "python",
   "name": "python3"
  },
  "language_info": {
   "codemirror_mode": {
    "name": "ipython",
    "version": 3
   },
   "file_extension": ".py",
   "mimetype": "text/x-python",
   "name": "python",
   "nbconvert_exporter": "python",
   "pygments_lexer": "ipython3",
   "version": "3.12.3"
  },
  "orig_nbformat": 4,
  "vscode": {
   "interpreter": {
    "hash": "5026d2d6e7aaaaba093def813beadff083d8733e4a511af01735cbabd156995d"
   }
  }
 },
 "nbformat": 4,
 "nbformat_minor": 2
}
